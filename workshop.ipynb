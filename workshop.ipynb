{
 "cells": [
  {
   "cell_type": "markdown",
   "metadata": {},
   "source": []
  },
  {
   "cell_type": "markdown",
   "metadata": {},
   "source": [
    "## 1. Install Ollama / Chat with the model in the terminal"
   ]
  },
  {
   "cell_type": "markdown",
   "metadata": {},
   "source": [
    "## 2. Install the requirements"
   ]
  },
  {
   "cell_type": "code",
   "execution_count": null,
   "metadata": {},
   "outputs": [],
   "source": [
    "import chromadb\n",
    "import pandas as pd\n",
    "from llama_index.core import (\n",
    "    PromptTemplate,\n",
    "    Settings,\n",
    "    SimpleDirectoryReader,\n",
    "    StorageContext,\n",
    "    VectorStoreIndex,\n",
    ")\n",
    "from llama_index.embeddings.huggingface import HuggingFaceEmbedding\n",
    "from llama_index.llms.ollama import Ollama\n",
    "from llama_index.vector_stores.chroma import ChromaVectorStore"
   ]
  },
  {
   "cell_type": "markdown",
   "metadata": {},
   "source": [
    "### Ollama"
   ]
  },
  {
   "cell_type": "code",
   "execution_count": null,
   "metadata": {},
   "outputs": [],
   "source": [
    "# ollama\n",
    "\n",
    "# Language model from Ollama\n",
    "# llm = Ollama(model=\"llama3.2:1b\", request_timeout=120.0)\n",
    "llm = Ollama(model=\"llama3\", request_timeout=120.0)\n",
    "\n",
    "# Set it as the default LLM in LlamaIndex\n",
    "Settings.llm = llm"
   ]
  },
  {
   "cell_type": "code",
   "execution_count": null,
   "metadata": {},
   "outputs": [
    {
     "name": "stdout",
     "output_type": "stream",
     "text": [
      "EPFL stands for École Polytechnique Fédérale de Lausanne, which is a Swiss federal institute of technology located in Lausanne, Switzerland. It is one of the two Swiss Federal Institutes of Technology, the other being ETH Zurich.\n",
      "\n",
      "EPFL is a research-focused institution that offers undergraduate and graduate programs in various fields such as engineering, natural sciences, mathematics, computer science, and management. It has a strong reputation for its research excellence, innovation, and entrepreneurship.\n",
      "\n",
      "EPFL is known for its interdisciplinary approach to education and research, with a focus on applied sciences and technology. The institute has a strong industry connection, with many partnerships and collaborations with leading companies, startups, and research institutions around the world.\n",
      "\n",
      "Some of the notable programs and specializations offered by EPFL include:\n",
      "\n",
      "* Engineering: mechanical engineering, electrical engineering, computer science, etc.\n",
      "* Natural Sciences: physics, chemistry, biology, etc.\n",
      "* Mathematics: pure mathematics, applied mathematics, statistics, etc.\n",
      "* Computer Science: software engineering, artificial intelligence, data science, etc.\n",
      "* Management: entrepreneurship, innovation management, international business, etc.\n",
      "\n",
      "EPFL is ranked among the top universities in the world by various rankings, including the QS World University Rankings, Times Higher Education World University Rankings, and US News & World Report Best Global Universities."
     ]
    }
   ],
   "source": [
    "prompt = \"What is EPFL?\"\n",
    "response = llm.stream_complete(prompt)\n",
    "\n",
    "for r in response:\n",
    "    print(r.delta, end=\"\")"
   ]
  },
  {
   "cell_type": "markdown",
   "metadata": {},
   "source": [
    "### Embedding model"
   ]
  },
  {
   "cell_type": "code",
   "execution_count": null,
   "metadata": {},
   "outputs": [],
   "source": [
    "# Embeddings model from HuggingFace\n",
    "embed_model = HuggingFaceEmbedding(model_name=\"BAAI/bge-base-en-v1.5\")\n",
    "\n",
    "# Set it as the default embedding model in LlamaIndex\n",
    "Settings.embed_model = embed_model"
   ]
  },
  {
   "cell_type": "markdown",
   "metadata": {},
   "source": [
    "### Reading documents with LlamaIndex"
   ]
  },
  {
   "cell_type": "code",
   "execution_count": null,
   "metadata": {},
   "outputs": [],
   "source": [
    "documents = SimpleDirectoryReader(\"./docs\", recursive=True).load_data()"
   ]
  },
  {
   "cell_type": "code",
   "execution_count": null,
   "metadata": {},
   "outputs": [
    {
     "data": {
      "text/plain": [
       "[Document(id_='e4f4fc99-ccb2-48a3-ad4c-0bc368e0c3ce', embedding=None, metadata={'page_label': '1', 'file_name': 'red-blue-teams.pdf', 'file_path': '/Users/victor.gillioz/Documents/Projects/LauzHack/local-rag-lauzhack-workshop/docs/red-blue-teams.pdf', 'file_type': 'application/pdf', 'file_size': 2587768, 'creation_date': '2024-11-08', 'last_modified_date': '2024-11-08'}, excluded_embed_metadata_keys=['file_name', 'file_type', 'file_size', 'creation_date', 'last_modified_date', 'last_accessed_date'], excluded_llm_metadata_keys=['file_name', 'file_type', 'file_size', 'creation_date', 'last_modified_date', 'last_accessed_date'], relationships={}, text='3/23/24, 1:18 PM The Role of Red Team and Blue Team in Cybersecurity\\nhttps://maddevs.io/blog/red-team-vs-blue-team-in-cybersecurity/ 1/245.0 article rate Created:Sep 20, 202314 min read\\nRed Team vs. Blue\\nTeam in Cybersecurity\\nMekan Bairyev\\nCybersecurity LeadCybersecurity\\nCybersecurity is becoming increasingly relevant in an era of ever-increasing digital\\nassets and widespread digitalization of corporate processes. Key players in this context\\nThis site uses cookies to provide you with a great user experience. By using\\nMad Devs you accept our use of cookies. View GDPR Compliance Commitment\\n✓ I agree', mimetype='text/plain', start_char_idx=None, end_char_idx=None, text_template='{metadata_str}\\n\\n{content}', metadata_template='{key}: {value}', metadata_seperator='\\n'),\n",
       " Document(id_='8a9c5ac5-0abf-4efa-8ec2-8fe06b71f076', embedding=None, metadata={'page_label': '2', 'file_name': 'red-blue-teams.pdf', 'file_path': '/Users/victor.gillioz/Documents/Projects/LauzHack/local-rag-lauzhack-workshop/docs/red-blue-teams.pdf', 'file_type': 'application/pdf', 'file_size': 2587768, 'creation_date': '2024-11-08', 'last_modified_date': '2024-11-08'}, excluded_embed_metadata_keys=['file_name', 'file_type', 'file_size', 'creation_date', 'last_modified_date', 'last_accessed_date'], excluded_llm_metadata_keys=['file_name', 'file_type', 'file_size', 'creation_date', 'last_modified_date', 'last_accessed_date'], relationships={}, text=\"3/23/24, 1:18 PM The Role of Red Team and Blue Team in Cybersecurity\\nhttps://maddevs.io/blog/red-team-vs-blue-team-in-cybersecurity/ 2/24are the red and blue teams. In this article, we will explore the fundamental principles of\\ntheir operation, methods of interaction, and their value for the cybersecurity of\\norganizations.\\nThe red team specializes in simulating real threats and attacks to identify vulnerabilities\\nin defense systems. The blue team focuses on analyzing such attacks and developing\\nmethodologies for their mitigation and prevention. The purple team aims to facilitate\\neffective interaction between offensive and defensive elements, analyze the results,\\nand suggest measures for optimizing mutual strategies and tactics.\\nThe collaborative work of the red and blue teams transforms cybersecurity approaches\\nfrom static measures into a dynamic, continuously updated system. The purple team\\ncoordinates these efforts, and ensures effective communication and knowledge transfer\\nbetween the red and blue teams, thereby enhancing the overall effectiveness of a\\ncybersecurity strategy.\\nThis allows corporations not only to deflect but also anticipate threats, thereby\\nmaintaining continuous protection, safeguarding their assets, and ensuring the\\nresilience of work processes.\\nHowever, we will focus on the red and blue teams as the foundation of cybersecurity\\nand an established model for its provision.\\nLet's delve into various aspects of the red team's work, and discuss their core expertise,\\nsecurity methods, real value they bring to organizations, and challenges in collaboration\\nwith the team.Red team vs. Blue team vs. Purple team\\nImportance for cybersecurity\\nRed team (Offensive security)\\nThis site uses cookies to provide you with a great user experience. By using\\nMad Devs you accept our use of cookies. View GDPR Compliance Commitment\", mimetype='text/plain', start_char_idx=None, end_char_idx=None, text_template='{metadata_str}\\n\\n{content}', metadata_template='{key}: {value}', metadata_seperator='\\n'),\n",
       " Document(id_='beac9ae7-84d1-432a-9c07-af1faae6a850', embedding=None, metadata={'page_label': '3', 'file_name': 'red-blue-teams.pdf', 'file_path': '/Users/victor.gillioz/Documents/Projects/LauzHack/local-rag-lauzhack-workshop/docs/red-blue-teams.pdf', 'file_type': 'application/pdf', 'file_size': 2587768, 'creation_date': '2024-11-08', 'last_modified_date': '2024-11-08'}, excluded_embed_metadata_keys=['file_name', 'file_type', 'file_size', 'creation_date', 'last_modified_date', 'last_accessed_date'], excluded_llm_metadata_keys=['file_name', 'file_type', 'file_size', 'creation_date', 'last_modified_date', 'last_accessed_date'], relationships={}, text='3/23/24, 1:18 PM The Role of Red Team and Blue Team in Cybersecurity\\nhttps://maddevs.io/blog/red-team-vs-blue-team-in-cybersecurity/ 3/24\\n\\xa0The red team focuses on four key areas:\\nEthical hacking. Simulating attacks on systems with the consent of the owners to\\nidentify vulnerabilities and test security measures.\\nThreat and risk analysis. Investigating the types of attacks the system is exposed to\\nand assessing the likelihood of their successful execution.\\nCode testing. Analyzing the source code of website architectures and applications for\\nvulnerabilities that could be exploited.\\nReporting and recommendations. Preparing detailed reports on identified\\nvulnerabilities and suggesting measures for their mitigation.\\nThe red team employs a comprehensive set of techniques and tools for security testing.\\nThese can be used individually for examining different layers of the system, but theyAreas of expertise of the red team\\nSecurity testing methods\\nThis site uses cookies to provide you with a great user experience. By using\\nMad Devs you accept our use of cookies. View GDPR Compliance Commitment', mimetype='text/plain', start_char_idx=None, end_char_idx=None, text_template='{metadata_str}\\n\\n{content}', metadata_template='{key}: {value}', metadata_seperator='\\n'),\n",
       " Document(id_='e2917127-08fc-40e6-b2c2-bdcd19f9e023', embedding=None, metadata={'page_label': '4', 'file_name': 'red-blue-teams.pdf', 'file_path': '/Users/victor.gillioz/Documents/Projects/LauzHack/local-rag-lauzhack-workshop/docs/red-blue-teams.pdf', 'file_type': 'application/pdf', 'file_size': 2587768, 'creation_date': '2024-11-08', 'last_modified_date': '2024-11-08'}, excluded_embed_metadata_keys=['file_name', 'file_type', 'file_size', 'creation_date', 'last_modified_date', 'last_accessed_date'], excluded_llm_metadata_keys=['file_name', 'file_type', 'file_size', 'creation_date', 'last_modified_date', 'last_accessed_date'], relationships={}, text='3/23/24, 1:18 PM The Role of Red Team and Blue Team in Cybersecurity\\nhttps://maddevs.io/blog/red-team-vs-blue-team-in-cybersecurity/ 4/24can also be combined for multi-layered testing depending on the specific needs of a\\nbusiness and the peculiarities of a given system.\\nHere, the red team focuses on identifying weaknesses in input data validation and\\nfiltering. Through various test code scenarios, the team assesses whether unexpected\\ncommands can be executed within the current system. This helps evaluate how well the\\nsystem is protected against attempts to compromise data integrity or gain full control\\nover the server. Discovered vulnerabilities could serve as entry points for attackers,\\nenabling them to launch ransomware, spread malware within the network, or even\\nremotely initiate processes that could effectively paralyze corporate operations.\\nSQL injections. Manipulating SQL queries for unauthorized database access.\\nOS command injections. Embedding and executing operational commands in the\\nsystem.\\nLDAP injections. Distorting LDAP queries to bypass access control systems.\\nXPath injections. Injecting code to manipulate XML documents.\\nServer-side template injection. Injecting malicious code through server templates.Code injections\\nThis site uses cookies to provide you with a great user experience. By using\\nMad Devs you accept our use of cookies. View GDPR Compliance Commitment', mimetype='text/plain', start_char_idx=None, end_char_idx=None, text_template='{metadata_str}\\n\\n{content}', metadata_template='{key}: {value}', metadata_seperator='\\n'),\n",
       " Document(id_='ba5aa2ef-754c-472a-8122-296546770f54', embedding=None, metadata={'page_label': '5', 'file_name': 'red-blue-teams.pdf', 'file_path': '/Users/victor.gillioz/Documents/Projects/LauzHack/local-rag-lauzhack-workshop/docs/red-blue-teams.pdf', 'file_type': 'application/pdf', 'file_size': 2587768, 'creation_date': '2024-11-08', 'last_modified_date': '2024-11-08'}, excluded_embed_metadata_keys=['file_name', 'file_type', 'file_size', 'creation_date', 'last_modified_date', 'last_accessed_date'], excluded_llm_metadata_keys=['file_name', 'file_type', 'file_size', 'creation_date', 'last_modified_date', 'last_accessed_date'], relationships={}, text=\"3/23/24, 1:18 PM The Role of Red Team and Blue Team in Cybersecurity\\nhttps://maddevs.io/blog/red-team-vs-blue-team-in-cybersecurity/ 5/24Here, the read team focuses on methods to analyze and monitor the network usage\\ntraffic in order to determine how difficult it is to gain unauthorized access or falsify data\\nin real time. Even minor delays in network transmission can be exploited to gain\\nunauthorized access to financial transactions or control over corporate infrastructure.\\nMan-in-the-Middle (MitM) attacks. Intercepting and modifying traffic between two\\nparties.\\nDoS/DDoS attacks. Overloading network resources to render them inoperative.\\nNetwork scanning. Identifying active devices and open ports on the network.\\nServer-side request forgery. Forcing the server to execute unwanted requests.\\nThe red team’s testing is also about the detailed analysis of authorization systems,\\nwhich includes two-factor authentication mechanisms, password policies, and role\\nsegregation. The process helps identify vulnerabilities that could be exploited to access\\nrestricted sections of the system or databases containing sensitive information. This\\ncould lead to severe consequences, such as intellectual property theft, financial\\nmanipulation, or even blackmail based on stolen data.\\nBrute-force attacks. Password guessing through multiple login attempts.\\nInsecure direct object references. Unauthorized access to objects due to flaws in\\nthe access control system.\\nOpen redirects. Redirecting users to malicious websites.\\nSession fixation. Capturing and using another user's session.\\nParameter tampering. Manipulating request parameters to bypass restrictions.\\nSubdomain takeover. Capturing unused or improperly configured subdomains.\\nIn this case, the red team seeks ways to circumvent system restrictions, for example, by\\nexploiting vulnerabilities in operating systems or services. Success in this area providesNetwork attacks\\nAccess control flaws\\nPrivilege elevation\\nThis site uses cookies to provide you with a great user experience. By using\\nMad Devs you accept our use of cookies. View GDPR Compliance Commitment\", mimetype='text/plain', start_char_idx=None, end_char_idx=None, text_template='{metadata_str}\\n\\n{content}', metadata_template='{key}: {value}', metadata_seperator='\\n')]"
      ]
     },
     "execution_count": 67,
     "metadata": {},
     "output_type": "execute_result"
    }
   ],
   "source": [
    "documents[:5]"
   ]
  },
  {
   "cell_type": "code",
   "execution_count": null,
   "metadata": {},
   "outputs": [],
   "source": [
    "# Other ways to create documents?... Other split method?.."
   ]
  },
  {
   "cell_type": "markdown",
   "metadata": {},
   "source": [
    "### ChromaDB"
   ]
  },
  {
   "cell_type": "code",
   "execution_count": null,
   "metadata": {},
   "outputs": [],
   "source": [
    "# Ephermeral client for Chroma\n",
    "chroma_client = chromadb.EphemeralClient()\n",
    "# chroma_collection = chroma_client.create_collection(\"mydocs\")\n",
    "chroma_collection = chroma_client.get_or_create_collection(\"mydocs\")\n",
    "\n",
    "# Vector store\n",
    "vector_store = ChromaVectorStore(chroma_collection=chroma_collection)\n",
    "# Storage context\n",
    "storage_context = StorageContext.from_defaults(vector_store=vector_store)\n",
    "\n",
    "# use this to set custom chunk size and splitting\n",
    "# https://docs.llamaindex.ai/en/stable/module_guides/loading/node_parsers/"
   ]
  },
  {
   "cell_type": "code",
   "execution_count": null,
   "metadata": {},
   "outputs": [
    {
     "name": "stderr",
     "output_type": "stream",
     "text": [
      "Parsing nodes: 100%|██████████| 46/46 [00:00<00:00, 3475.61it/s]\n",
      "Generating embeddings: 100%|██████████| 46/46 [00:01<00:00, 29.41it/s]\n"
     ]
    }
   ],
   "source": [
    "index = VectorStoreIndex.from_documents(\n",
    "    documents,\n",
    "    storage_context=storage_context,\n",
    "    embed_model=embed_model,\n",
    "    show_progress=True,\n",
    ")"
   ]
  },
  {
   "cell_type": "code",
   "execution_count": null,
   "metadata": {},
   "outputs": [
    {
     "data": {
      "text/plain": [
       "dict_keys(['ids', 'embeddings', 'metadatas', 'documents', 'uris', 'data', 'included'])"
      ]
     },
     "execution_count": 77,
     "metadata": {},
     "output_type": "execute_result"
    }
   ],
   "source": [
    "result = chroma_collection.get()\n",
    "result.keys()"
   ]
  },
  {
   "cell_type": "code",
   "execution_count": null,
   "metadata": {},
   "outputs": [],
   "source": [
    "data = {\n",
    "    \"IDs\": result[\"ids\"],\n",
    "    \"Documents\": result[\"documents\"],\n",
    "    \"Metadata\": result[\"metadatas\"],\n",
    "}\n",
    "\n",
    "df = pd.DataFrame(data)"
   ]
  },
  {
   "cell_type": "code",
   "execution_count": null,
   "metadata": {},
   "outputs": [
    {
     "data": {
      "text/html": [
       "<div>\n",
       "<style scoped>\n",
       "    .dataframe tbody tr th:only-of-type {\n",
       "        vertical-align: middle;\n",
       "    }\n",
       "\n",
       "    .dataframe tbody tr th {\n",
       "        vertical-align: top;\n",
       "    }\n",
       "\n",
       "    .dataframe thead th {\n",
       "        text-align: right;\n",
       "    }\n",
       "</style>\n",
       "<table border=\"1\" class=\"dataframe\">\n",
       "  <thead>\n",
       "    <tr style=\"text-align: right;\">\n",
       "      <th></th>\n",
       "      <th>IDs</th>\n",
       "      <th>Documents</th>\n",
       "      <th>Metadata</th>\n",
       "    </tr>\n",
       "  </thead>\n",
       "  <tbody>\n",
       "    <tr>\n",
       "      <th>0</th>\n",
       "      <td>04631968-0389-4189-8c01-323cc685f3f4</td>\n",
       "      <td>3/23/24, 1:17 PM The Role of Red Teaming in Re...</td>\n",
       "      <td>{'_node_content': '{\"id_\": \"04631968-0389-4189...</td>\n",
       "    </tr>\n",
       "    <tr>\n",
       "      <th>1</th>\n",
       "      <td>07ef73eb-4139-485c-af04-c6ca0d16553d</td>\n",
       "      <td>3/23/24, 1:17 PM The Role of Red Teaming in Re...</td>\n",
       "      <td>{'_node_content': '{\"id_\": \"07ef73eb-4139-485c...</td>\n",
       "    </tr>\n",
       "    <tr>\n",
       "      <th>2</th>\n",
       "      <td>09595b36-e757-46ce-82b1-94e45619273e</td>\n",
       "      <td>3/23/24, 1:18 PM The Role of Red Team and Blue...</td>\n",
       "      <td>{'_node_content': '{\"id_\": \"09595b36-e757-46ce...</td>\n",
       "    </tr>\n",
       "    <tr>\n",
       "      <th>3</th>\n",
       "      <td>0a108b75-3da0-4e17-b44b-b7157ee83774</td>\n",
       "      <td>3/23/24, 1:08 PM Red teaming 101: An introduct...</td>\n",
       "      <td>{'_node_content': '{\"id_\": \"0a108b75-3da0-4e17...</td>\n",
       "    </tr>\n",
       "    <tr>\n",
       "      <th>4</th>\n",
       "      <td>121495c8-616c-41d5-a0a3-5e76029fc87e</td>\n",
       "      <td>3/23/24, 1:18 PM The Role of Red Team and Blue...</td>\n",
       "      <td>{'_node_content': '{\"id_\": \"121495c8-616c-41d5...</td>\n",
       "    </tr>\n",
       "  </tbody>\n",
       "</table>\n",
       "</div>"
      ],
      "text/plain": [
       "                                    IDs  \\\n",
       "0  04631968-0389-4189-8c01-323cc685f3f4   \n",
       "1  07ef73eb-4139-485c-af04-c6ca0d16553d   \n",
       "2  09595b36-e757-46ce-82b1-94e45619273e   \n",
       "3  0a108b75-3da0-4e17-b44b-b7157ee83774   \n",
       "4  121495c8-616c-41d5-a0a3-5e76029fc87e   \n",
       "\n",
       "                                           Documents  \\\n",
       "0  3/23/24, 1:17 PM The Role of Red Teaming in Re...   \n",
       "1  3/23/24, 1:17 PM The Role of Red Teaming in Re...   \n",
       "2  3/23/24, 1:18 PM The Role of Red Team and Blue...   \n",
       "3  3/23/24, 1:08 PM Red teaming 101: An introduct...   \n",
       "4  3/23/24, 1:18 PM The Role of Red Team and Blue...   \n",
       "\n",
       "                                            Metadata  \n",
       "0  {'_node_content': '{\"id_\": \"04631968-0389-4189...  \n",
       "1  {'_node_content': '{\"id_\": \"07ef73eb-4139-485c...  \n",
       "2  {'_node_content': '{\"id_\": \"09595b36-e757-46ce...  \n",
       "3  {'_node_content': '{\"id_\": \"0a108b75-3da0-4e17...  \n",
       "4  {'_node_content': '{\"id_\": \"121495c8-616c-41d5...  "
      ]
     },
     "execution_count": 79,
     "metadata": {},
     "output_type": "execute_result"
    }
   ],
   "source": [
    "df.head()"
   ]
  },
  {
   "cell_type": "code",
   "execution_count": null,
   "metadata": {},
   "outputs": [
    {
     "data": {
      "text/plain": [
       "dict_keys(['_node_content', '_node_type', 'creation_date', 'doc_id', 'document_id', 'file_name', 'file_path', 'file_size', 'file_type', 'last_modified_date', 'page_label', 'ref_doc_id'])"
      ]
     },
     "execution_count": 80,
     "metadata": {},
     "output_type": "execute_result"
    }
   ],
   "source": [
    "result[\"metadatas\"][0].keys()"
   ]
  },
  {
   "cell_type": "markdown",
   "metadata": {},
   "source": [
    "## Indexer and engines"
   ]
  },
  {
   "cell_type": "markdown",
   "metadata": {},
   "source": [
    "### Retrieve"
   ]
  },
  {
   "cell_type": "code",
   "execution_count": null,
   "metadata": {},
   "outputs": [
    {
     "data": {
      "text/plain": [
       "[NodeWithScore(node=TextNode(id_='3de935a5-f100-4af3-87d9-2971ed12c653', embedding=None, metadata={'page_label': '2', 'file_name': 'red-team-regulatory.pdf', 'file_path': '/Users/victor.gillioz/Documents/Projects/LauzHack/local-rag-lauzhack-workshop/docs/red-team-regulatory.pdf', 'file_type': 'application/pdf', 'file_size': 4589421, 'creation_date': '2024-11-08', 'last_modified_date': '2024-11-08'}, excluded_embed_metadata_keys=['file_name', 'file_type', 'file_size', 'creation_date', 'last_modified_date', 'last_accessed_date'], excluded_llm_metadata_keys=['file_name', 'file_type', 'file_size', 'creation_date', 'last_modified_date', 'last_accessed_date'], relationships={<NodeRelationship.SOURCE: '1'>: RelatedNodeInfo(node_id='fab49662-8d3b-400c-96c2-d789ab28787b', node_type=<ObjectType.DOCUMENT: '4'>, metadata={'page_label': '2', 'file_name': 'red-team-regulatory.pdf', 'file_path': '/Users/victor.gillioz/Documents/Projects/LauzHack/local-rag-lauzhack-workshop/docs/red-team-regulatory.pdf', 'file_type': 'application/pdf', 'file_size': 4589421, 'creation_date': '2024-11-08', 'last_modified_date': '2024-11-08'}, hash='aec3e7603f76afadd38fcf02cd4b2047d5d30d0b29568193af2bbcd43632d906')}, text='3/23/24, 1:17 PM The Role of Red Teaming in Regulatory Compliance and Risk Management | by John Nathan | Medium\\nhttps://medium.com/@johnnathans/the-role-of-red-teaming-in-regulatory-compliance-and-risk-management-3b1e4e3f320d 2/15The Role of Red Teaming in Regulatory Compliance and Risk Management\\nThe world of business is evolving at an unprecedented pace, presenting\\norganizations with a constant and formidable challenge: regulatory\\ncompliance and risk management. In this ever-changing landscape, the\\ndigital realm has become both the playground and battleground for\\nbusinesses. It’s within this context that red teaming services have risen to\\nprominence as a crucial element for organizations aiming to evaluate and\\nimprove their security measures, ultimately ensuring they stay in alignment\\nwith regulatory mandates and can adeptly manage risks.\\nUnderstanding Red Teaming\\nRed teaming is a structured and strategic approach to evaluating an\\norganization’s security measures. Unlike traditional security assessments,\\nred teaming goes beyond simple vulnerability scanning or penetration\\ntesting. It simulates real-world cyber threats and assesses an organization’s\\noverall preparedness. A red team consists of cybersecurity experts who play\\nthe role of adversaries, probing for weaknesses and vulnerabilities within an\\norganization’s security systems and procedures.\\nKey Red Teaming Services\\nRed team services offer a multifaceted approach to cybersecurity, making\\nthem a vital component of regulatory compliance and risk management.\\nThese services encompass various practices, including:\\nPenetration Testing:\\nPenetration testing, often referred to as pen-testing, is a foundational\\nelement of red teaming services. It involves simulating cyberattacks to', mimetype='text/plain', start_char_idx=0, end_char_idx=1758, text_template='{metadata_str}\\n\\n{content}', metadata_template='{key}: {value}', metadata_seperator='\\n'), score=0.5691442613058458),\n",
       " NodeWithScore(node=TextNode(id_='b86dfac4-2359-4f0d-aed8-e43d2d7a1f49', embedding=None, metadata={'page_label': '2', 'file_name': 'red-team-introduction.pdf', 'file_path': '/Users/victor.gillioz/Documents/Projects/LauzHack/local-rag-lauzhack-workshop/docs/red-team-introduction.pdf', 'file_type': 'application/pdf', 'file_size': 351248, 'creation_date': '2024-11-08', 'last_modified_date': '2024-11-08'}, excluded_embed_metadata_keys=['file_name', 'file_type', 'file_size', 'creation_date', 'last_modified_date', 'last_accessed_date'], excluded_llm_metadata_keys=['file_name', 'file_type', 'file_size', 'creation_date', 'last_modified_date', 'last_accessed_date'], relationships={<NodeRelationship.SOURCE: '1'>: RelatedNodeInfo(node_id='36443fba-7318-43bd-8b61-ae82314b7ca8', node_type=<ObjectType.DOCUMENT: '4'>, metadata={'page_label': '2', 'file_name': 'red-team-introduction.pdf', 'file_path': '/Users/victor.gillioz/Documents/Projects/LauzHack/local-rag-lauzhack-workshop/docs/red-team-introduction.pdf', 'file_type': 'application/pdf', 'file_size': 351248, 'creation_date': '2024-11-08', 'last_modified_date': '2024-11-08'}, hash='c46c11cb37a3b47d0c163caa98c743a3e6f6c533a7e05d3c0c6b618523a7c385')}, text=\"3/23/24, 1:08 PM Red teaming 101: An introduction to red teaming and how it improves your cyber security - PwC UK\\nhttps://www.pwc.co.uk/issues/cyber-security-services/insights/what-is-red-teaming.html 2/7system s, a red team is target-driven and seeks to gain access to predetermined\\nobjectives b y exploiting relevant weaknesses anywhere within an organisation. It\\ndoes not seek  to provide an exhaustive list of vulnerabilities present.\\nThe value of a red team is in simulating how an organisation could be targeted in a\\nreal world attack and testing how the blue team responds to such an attack. The\\ntactics, techniques and procedures (TTPs) of a red team are modelled on real-\\nworld malicious threat actors, with the goal of highlighting gaps in the security\\nresponse.\\nUnlike in a penetration test, the organisation’s security team is usually not made\\naware of the red team exercise. This serves to safely and realistically test an\\norganisation’s capabilities to detect and respond to an attack. As the two teams\\nget to work, the blue team has to respond to the evolving techniques of the red\\nteam and they in turn adapt to the blue team and attempt to evade the controls\\nthat are in place. It is through the teams learning about each other's tools and\\ntechniques that the organisation can get most real world value. An evolution of\\nthese techniques is to deliberately create a co-operative purple team, but that's the\\ntopic for another article.\\nHow does a Red Team work?\\nJust as no two companies are identical, neither are two red teams; however, the\\nstandard attack path typically follows this chain:\\nInitial access ⇾  Persistence ⇾  Privilege escalation ⇾  Command and control ⇾\\nObjective ⇾  Exfiltration of data\\nThe attack chain is often informed from a threat Intelligence\\xa0report, identifying\\nrelevant threat actors which the red team should emulate, or from current trends\\nseen  in the wild (such as human-operated ransomware, campaigns), and through\\nthe company’s own assessm ent of its weaknesses. A particular threat actor could\", mimetype='text/plain', start_char_idx=0, end_char_idx=2041, text_template='{metadata_str}\\n\\n{content}', metadata_template='{key}: {value}', metadata_seperator='\\n'), score=0.5464042002470376),\n",
       " NodeWithScore(node=TextNode(id_='04631968-0389-4189-8c01-323cc685f3f4', embedding=None, metadata={'page_label': '6', 'file_name': 'red-team-regulatory.pdf', 'file_path': '/Users/victor.gillioz/Documents/Projects/LauzHack/local-rag-lauzhack-workshop/docs/red-team-regulatory.pdf', 'file_type': 'application/pdf', 'file_size': 4589421, 'creation_date': '2024-11-08', 'last_modified_date': '2024-11-08'}, excluded_embed_metadata_keys=['file_name', 'file_type', 'file_size', 'creation_date', 'last_modified_date', 'last_accessed_date'], excluded_llm_metadata_keys=['file_name', 'file_type', 'file_size', 'creation_date', 'last_modified_date', 'last_accessed_date'], relationships={<NodeRelationship.SOURCE: '1'>: RelatedNodeInfo(node_id='4c92b788-ac44-4669-86d2-637983b17185', node_type=<ObjectType.DOCUMENT: '4'>, metadata={'page_label': '6', 'file_name': 'red-team-regulatory.pdf', 'file_path': '/Users/victor.gillioz/Documents/Projects/LauzHack/local-rag-lauzhack-workshop/docs/red-team-regulatory.pdf', 'file_type': 'application/pdf', 'file_size': 4589421, 'creation_date': '2024-11-08', 'last_modified_date': '2024-11-08'}, hash='7289dc598eb87fbb454f63f2070eef8df2044c3cfec7ce9444ac1bc65676e8e8')}, text='3/23/24, 1:17 PM The Role of Red Teaming in Regulatory Compliance and Risk Management | by John Nathan | Medium\\nhttps://medium.com/@johnnathans/the-role-of-red-teaming-in-regulatory-compliance-and-risk-management-3b1e4e3f320d 6/15Uncovering Hidden Vulnerabilities:\\nRed teams specialize in identifying vulnerabilities that may go unnoticed in\\nroutine security assessments. By simulating sophisticated cyber threats, they\\nreveal weaknesses that can be addressed before they are exploited by\\nmalicious actors. This proactive approach aligns with regulatory\\nexpectations for robust security measures.\\nTailored Security Assessments:\\nRed teaming services can be customized to focus on specific regulatory\\nrequirements and industry standards. This tailoring ensures that an\\norganization’s compliance efforts are targeted and comprehensive,\\naddressing the exact measures demanded by the relevant regulatory bodies.\\nEvolving with Regulations:\\nRegulations and industry standards are not static. They evolve to address\\nemerging threats and challenges. Red teaming services adapt to these\\nchanges by simulating the latest threat vectors and helping organizations\\nstay ahead of evolving compliance requirements.\\nThird-Party Validation:\\nSome regulatory frameworks require third-party validation of an\\norganization’s security measures. Red teaming services provide an\\nindependent assessment of an organization’s security posture, which can be\\ncrucial for demonstrating compliance to regulatory bodies.\\nRed Teaming for Enhanced Risk Management\\nBeyond regulatory compliance, organizations face a multitude of risks in the\\ndigital age. Red teaming services contribute to enhanced risk management\\nby:', mimetype='text/plain', start_char_idx=0, end_char_idx=1681, text_template='{metadata_str}\\n\\n{content}', metadata_template='{key}: {value}', metadata_seperator='\\n'), score=0.5423417699739705)]"
      ]
     },
     "execution_count": 10,
     "metadata": {},
     "output_type": "execute_result"
    }
   ],
   "source": [
    "retriever = index.as_retriever(\n",
    "    similarity_top_k=3,\n",
    ")\n",
    "\n",
    "retriever.retrieve(\"What is Red Teaming?\")"
   ]
  },
  {
   "cell_type": "markdown",
   "metadata": {},
   "source": [
    "### Query"
   ]
  },
  {
   "cell_type": "code",
   "execution_count": null,
   "metadata": {},
   "outputs": [],
   "source": [
    "query_engine = index.as_query_engine(\n",
    "    llm=llm,\n",
    "    similartiy_top_k=3,\n",
    ")\n",
    "\n",
    "response = query_engine.query(\"What is Red Teaming?\")"
   ]
  },
  {
   "cell_type": "code",
   "execution_count": null,
   "metadata": {},
   "outputs": [
    {
     "name": "stdout",
     "output_type": "stream",
     "text": [
      "A structured and strategic approach to evaluating an organization's security measures. It simulates real-world cyber threats and assesses an organization's overall preparedness by probing for weaknesses and vulnerabilities within its security systems and procedures. A red team consists of cybersecurity experts who play the role of adversaries, mimicking the tactics, techniques, and procedures of real-world malicious threat actors to highlight gaps in the security response.\n"
     ]
    }
   ],
   "source": [
    "print(response)"
   ]
  },
  {
   "cell_type": "code",
   "execution_count": null,
   "metadata": {},
   "outputs": [
    {
     "name": "stdout",
     "output_type": "stream",
     "text": [
      "> Source (Doc id: 3de935a5-f100-4af3-87d9-2971ed12c653): 3/23/24, 1:17 PM The Role of Red Teaming in Regulatory Compliance and Risk Management | by John N...\n",
      "\n",
      "> Source (Doc id: b86dfac4-2359-4f0d-aed8-e43d2d7a1f49): 3/23/24, 1:08 PM Red teaming 101: An introduction to red teaming and how it improves your cyber s...\n"
     ]
    }
   ],
   "source": [
    "print(response.get_formatted_sources())"
   ]
  },
  {
   "cell_type": "code",
   "execution_count": null,
   "metadata": {},
   "outputs": [],
   "source": [
    "query_engine = index.as_query_engine(\n",
    "    llm=llm,\n",
    "    similartiy_top_k=3,\n",
    "    streaming=True,\n",
    ")\n",
    "\n",
    "response = query_engine.query(\"What is Red Teaming?\")"
   ]
  },
  {
   "cell_type": "code",
   "execution_count": null,
   "metadata": {},
   "outputs": [
    {
     "name": "stdout",
     "output_type": "stream",
     "text": [
      "A structured and strategic approach to evaluating an organization's security measures, simulating real-world cyber threats, and assessing overall preparedness. It involves a team of cybersecurity experts playing the role of adversaries, probing for weaknesses and vulnerabilities within an organization's security systems and procedures."
     ]
    }
   ],
   "source": [
    "response.print_response_stream()"
   ]
  },
  {
   "cell_type": "code",
   "execution_count": null,
   "metadata": {},
   "outputs": [],
   "source": [
    "query_engine = index.as_query_engine(\n",
    "    llm=llm,\n",
    "    similartiy_top_k=3,\n",
    "    streaming=True,\n",
    ")\n",
    "\n",
    "response = query_engine.query(\"What is Red Teaming?\")"
   ]
  },
  {
   "cell_type": "code",
   "execution_count": null,
   "metadata": {},
   "outputs": [],
   "source": [
    "# custome prompt template\n",
    "template = (\n",
    "    \"Imagine you are an advanced AI expert in cyber security laws, with access to all current and relevant legal documents, \"\n",
    "    \"case studies, and expert analyses. Your goal is to provide insightful, accurate, and concise answers to questions in this domain.\\n\\n\"\n",
    "    \"Here is some context related to the query:\\n\"\n",
    "    \"-----------------------------------------\\n\"\n",
    "    \"{context_str}\\n\"\n",
    "    \"-----------------------------------------\\n\"\n",
    "    \"Considering the above information, please respond to the following inquiry with detailed references to applicable laws, \"\n",
    "    \"precedents, or principles where appropriate:\\n\\n\"\n",
    "    \"Question: {query_str}\\n\\n\"\n",
    "    \"Answer succinctly, starting with the phrase 'According to cyber security law,' and ensure your response is understandable to someone without a legal background.\"\n",
    ")\n",
    "qa_template = PromptTemplate(template)\n",
    "\n",
    "\n",
    "query_engine = index.as_query_engine(\n",
    "    llm=llm,\n",
    "    similartiy_top_k=3,\n",
    "    streaming=True,\n",
    "    text_qa_template=qa_template,\n",
    ")\n",
    "\n",
    "response = query_engine.query(\"What is Red Teaming?\")"
   ]
  },
  {
   "cell_type": "code",
   "execution_count": null,
   "metadata": {},
   "outputs": [
    {
     "name": "stdout",
     "output_type": "stream",
     "text": [
      "According to cyber security law, Red Teaming refers to a structured and strategic approach to evaluating an organization's security measures by simulating real-world cyber threats and assessing its overall preparedness. This involves a team of cybersecurity experts playing the role of adversaries, probing for weaknesses and vulnerabilities within an organization's security systems and procedures.\n",
      "\n",
      "Red Teaming services are designed to simulate how an organization could be targeted in a real-world attack, testing its capabilities to detect and respond to such an attack. The process is informed by threat intelligence reports, identifying relevant threat actors or current trends seen in the wild (such as human-operated ransomware campaigns).\n",
      "\n",
      "[References: \n",
      "\n",
      "* John Nathan's article on \"The Role of Red Teaming in Regulatory Compliance and Risk Management\" (Medium)\n",
      "* PwC UK's insight paper on \"What is Red Teaming?\" (PwC UK)\n",
      "\n",
      "Precedents: The concept of Red Teaming is rooted in the idea that organizations must continually test their security measures to stay ahead of emerging threats. This approach aligns with regulatory requirements, such as those outlined in the General Data Protection Regulation (GDPR), which emphasizes the need for organizations to implement robust security measures and regularly test their effectiveness.\n",
      "\n",
      "Principles: The principles underlying Red Teaming are rooted in the concept of \"defend in depth,\" where organizations must have multiple layers of defense to effectively detect and respond to cyber threats. This approach is supported by legal frameworks, such as the Cybersecurity Act of 2015 (USA), which encourages organizations to adopt a risk-based approach to cybersecurity.]"
     ]
    }
   ],
   "source": [
    "response.print_response_stream()"
   ]
  },
  {
   "cell_type": "code",
   "execution_count": null,
   "metadata": {},
   "outputs": [],
   "source": [
    "# Chat mode (not presented)"
   ]
  },
  {
   "cell_type": "markdown",
   "metadata": {},
   "source": [
    "### Persistent DB"
   ]
  },
  {
   "cell_type": "code",
   "execution_count": null,
   "metadata": {},
   "outputs": [],
   "source": [
    "# Persistent Client\n",
    "chroma_client = chromadb.PersistentClient(\"./chroma\")\n",
    "chroma_collection = chroma_client.get_or_create_collection(\"mydocs\")"
   ]
  },
  {
   "cell_type": "code",
   "execution_count": null,
   "metadata": {},
   "outputs": [],
   "source": [
    "# Vector store\n",
    "vector_store = ChromaVectorStore(chroma_collection=chroma_collection)"
   ]
  },
  {
   "cell_type": "code",
   "execution_count": null,
   "metadata": {},
   "outputs": [],
   "source": [
    "# Index from existing vector store\n",
    "index = VectorStoreIndex.from_vector_store(\n",
    "    vector_store,\n",
    "    embed_model=embed_model,\n",
    ")"
   ]
  },
  {
   "cell_type": "code",
   "execution_count": null,
   "metadata": {},
   "outputs": [],
   "source": [
    "documents = SimpleDirectoryReader(\"./docs\", recursive=True).load_data()"
   ]
  },
  {
   "cell_type": "code",
   "execution_count": null,
   "metadata": {},
   "outputs": [],
   "source": [
    "for doc in documents:\n",
    "    index.insert(doc)"
   ]
  },
  {
   "cell_type": "code",
   "execution_count": null,
   "metadata": {},
   "outputs": [],
   "source": [
    "# Clear\n",
    "# index.vector_store.clear()"
   ]
  },
  {
   "cell_type": "code",
   "execution_count": null,
   "metadata": {},
   "outputs": [],
   "source": [
    "# custome prompt template\n",
    "template = (\n",
    "    \"Imagine you are an advanced AI expert in cyber security laws, with access to all current and relevant legal documents, \"\n",
    "    \"case studies, and expert analyses. Your goal is to provide insightful, accurate, and concise answers to questions in this domain.\\n\\n\"\n",
    "    \"Here is some context related to the query:\\n\"\n",
    "    \"-----------------------------------------\\n\"\n",
    "    \"{context_str}\\n\"\n",
    "    \"-----------------------------------------\\n\"\n",
    "    \"Considering the above information, please respond to the following inquiry with detailed references to applicable laws, \"\n",
    "    \"precedents, or principles where appropriate:\\n\\n\"\n",
    "    \"Question: {query_str}\\n\\n\"\n",
    "    \"Answer succinctly, starting with the phrase 'According to cyber security law,' and ensure your response is understandable to someone without a legal background.\"\n",
    ")\n",
    "qa_template = PromptTemplate(template)\n",
    "\n",
    "\n",
    "query_engine = index.as_query_engine(\n",
    "    llm=llm,\n",
    "    similartiy_top_k=3,\n",
    "    streaming=True,\n",
    "    text_qa_template=qa_template,\n",
    ")"
   ]
  },
  {
   "cell_type": "code",
   "execution_count": null,
   "metadata": {},
   "outputs": [],
   "source": [
    "response = query_engine.query(\"What is Red Teaming?\")"
   ]
  },
  {
   "cell_type": "code",
   "execution_count": null,
   "metadata": {},
   "outputs": [
    {
     "name": "stdout",
     "output_type": "stream",
     "text": [
      "According to cybersecurity law, Red Teaming refers to a structured and strategic approach to evaluating an organization's security measures by simulating real-world cyber threats and assessing overall preparedness. This involves a team of cybersecurity experts playing the role of adversaries, probing for weaknesses and vulnerabilities within an organization's security systems and procedures.\n",
      "\n",
      "(Citations: John Nathan, \"The Role of Red Teaming in Regulatory Compliance and Risk Management\" (2023), Medium; relevant legal documents and precedents not explicitly stated).\n",
      "\n",
      "In simpler terms, Red Teaming is a simulated cyberattack designed to test the robustness of an organization's cybersecurity measures. It goes beyond traditional security assessments by mimicking real-world attacks, helping organizations identify vulnerabilities and improve their overall preparedness.\n",
      "\n",
      "Please note that this response focuses on the context provided, which primarily discusses the concept of Red Teaming in the realm of cybersecurity."
     ]
    }
   ],
   "source": [
    "response.print_response_stream()"
   ]
  },
  {
   "cell_type": "code",
   "execution_count": null,
   "metadata": {},
   "outputs": [],
   "source": []
  }
 ],
 "metadata": {
  "kernelspec": {
   "display_name": "LauzHack-sb5vgLCJ",
   "language": "python",
   "name": "python3"
  },
  "language_info": {
   "codemirror_mode": {
    "name": "ipython",
    "version": 3
   },
   "file_extension": ".py",
   "mimetype": "text/x-python",
   "name": "python",
   "nbconvert_exporter": "python",
   "pygments_lexer": "ipython3",
   "version": "3.11.10"
  }
 },
 "nbformat": 4,
 "nbformat_minor": 2
}
